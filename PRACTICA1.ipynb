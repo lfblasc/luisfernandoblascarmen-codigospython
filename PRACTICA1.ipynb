{
 "cells": [
  {
   "cell_type": "code",
   "execution_count": 2,
   "id": "9dc64693",
   "metadata": {},
   "outputs": [
    {
     "name": "stdout",
     "output_type": "stream",
     "text": [
      " //\\ \n",
      "//__\\ \n",
      "||  ||\n",
      "||__||\n"
     ]
    }
   ],
   "source": [
    "print(\" //\\ \" )\n",
    "print(\"//__\\ \")\n",
    "print(\"||  ||\")\n",
    "print(\"||__||\")"
   ]
  },
  {
   "cell_type": "code",
   "execution_count": 54,
   "id": "e4afb81e",
   "metadata": {},
   "outputs": [
    {
     "name": "stdout",
     "output_type": "stream",
     "text": [
      "Ingrese su nombre: Luis Fernando Blas Carmen\n",
      "Ingrese su numero telefonico: 55 5555 5555\n",
      "Ingrese su email: correo@correo.com\n",
      "Bienvenido usuario 'Luis Fernando Blas Carmen' con telefono '55 5555 5555' y direccion de correo 'correo@correo.com'\n"
     ]
    }
   ],
   "source": [
    "nombre = input(\"Ingrese su nombre: \")\n",
    "telefono = input(\"Ingrese su numero telefonico: \")\n",
    "email = input(\"Ingrese su email: \")\n",
    "bienvenida = \"Bienvenido usuario '{}' con telefono '{}' y direccion de correo '{}'\".format(nombre,telefono,email)\n",
    "print(bienvenida)"
   ]
  },
  {
   "cell_type": "code",
   "execution_count": 55,
   "id": "773b1848",
   "metadata": {},
   "outputs": [
    {
     "name": "stdout",
     "output_type": "stream",
     "text": [
      "ingrese valor de primera resistencia: 5\n",
      "ingrese valor de segunda resistencia: 233\n",
      "la resistencia total en paralelo es de \n",
      "4.894957983193277\n"
     ]
    }
   ],
   "source": [
    "r1 = float(input(\"ingrese valor de primera resistencia: \"))\n",
    "r2 = float(input(\"ingrese valor de segunda resistencia: \"))\n",
    "r11 = 1/r1\n",
    "r22 = 1/r2\n",
    "rt = r11 + r22\n",
    "rtt = 1/rt\n",
    "print(\"la resistencia total en paralelo es de \")\n",
    "print(rtt)"
   ]
  },
  {
   "cell_type": "code",
   "execution_count": 56,
   "id": "dfcab99f",
   "metadata": {},
   "outputs": [
    {
     "data": {
      "text/plain": [
       "2.0"
      ]
     },
     "execution_count": 56,
     "metadata": {},
     "output_type": "execute_result"
    }
   ],
   "source": [
    "import numpy as np\n",
    "matriz = np.array([[2,4], [2,5]])\n",
    "matriz\n",
    "np.linalg.det(matriz)"
   ]
  },
  {
   "cell_type": "code",
   "execution_count": 17,
   "id": "63608788",
   "metadata": {
    "scrolled": true
   },
   "outputs": [
    {
     "name": "stdout",
     "output_type": "stream",
     "text": [
      "Ingrese coeficiente de x^2: 1\n",
      "Ingrese coeficiente de x: -5\n",
      "Ingrese coeficiente de variable: 6\n",
      "Las soluciones son: \n",
      "3.0\n",
      "2.0\n"
     ]
    }
   ],
   "source": [
    "from math import sqrt\n",
    "a = float(input(\"Ingrese coeficiente de x^2: \"))\n",
    "b = float(input(\"Ingrese coeficiente de x: \"))\n",
    "c = float(input(\"Ingrese coeficiente de variable: \"))\n",
    "x1=0\n",
    "x2=0\n",
    "if ((b**2)-4*a*c) < 0:\n",
    "    print(\"La solucion son numeros complejos\")\n",
    "else:\n",
    "    x1 = (-b+sqrt(b**2-(4*a*c)))/(2*a)\n",
    "    x2 = (-b-sqrt(b**2-(4*a*c)))/(2*a)\n",
    "    print(\"Las soluciones son: \")\n",
    "    print(x1)\n",
    "    print(x2)\n"
   ]
  },
  {
   "cell_type": "code",
   "execution_count": 21,
   "id": "e25c0ea0",
   "metadata": {},
   "outputs": [
    {
     "name": "stdout",
     "output_type": "stream",
     "text": [
      "Ingrese el numero que desee evaluar: -1\n",
      "Este numero es negativo\n"
     ]
    }
   ],
   "source": [
    "eval=int(input(\"Ingrese el numero que desee evaluar: \"))\n",
    "if eval > 0 :\n",
    "    print(\"Este numero es positivo y es mayor que 0\")\n",
    "elif eval < 0 :\n",
    "    print(\"Este numero es negativo\")\n",
    "elif eval == 0 :\n",
    "    print(\"Este numero es 0 y es positivo\")"
   ]
  },
  {
   "cell_type": "code",
   "execution_count": 24,
   "id": "39a15cc3",
   "metadata": {},
   "outputs": [
    {
     "name": "stdout",
     "output_type": "stream",
     "text": [
      "Programa para aprovar un prestamo\n",
      "Ingresa tu edad: 18\n",
      "Ingrese la catidad de sus ingresos: 2000\n",
      "Ingrese la cantidad de sus egresos: 100\n",
      "Ingrese monto requerido de prestamo: 500\n",
      "Ingrese cantidad de meses para pagar el prestamo: 2\n",
      "Felicidades, eres candidato al prestamo\n"
     ]
    }
   ],
   "source": [
    "print(\"Programa para aprovar un prestamo\")\n",
    "edad = int(input(\"Ingresa tu edad: \"))\n",
    "ingresos = int(input(\"Ingrese la catidad de sus ingresos: \"))\n",
    "egresos = int(input(\"Ingrese la cantidad de sus egresos: \"))\n",
    "prestamo = int(input(\"Ingrese monto requerido de prestamo: \"))\n",
    "meses = int(input(\"Ingrese cantidad de meses para pagar el prestamo: \"))\n",
    "\n",
    "if edad >= 18:\n",
    "    if ingresos > egresos:\n",
    "        resto = ingresos - egresos\n",
    "        cuota = prestamo/meses\n",
    "        if resto > cuota:\n",
    "            print(\"Felicidades, eres candidato al prestamo\")\n",
    "        else:\n",
    "            print(\"Lo siento, no eres capaz de pagar el credito\")\n",
    "    else:\n",
    "        print(\"Lo siento , sus egresos rebasan sus ingresos\")        \n",
    "else:\n",
    "    print(\"Lo siento , no tienes la edad necesaria para el prestamo\")"
   ]
  },
  {
   "cell_type": "code",
   "execution_count": 44,
   "id": "9b6208e3",
   "metadata": {},
   "outputs": [
    {
     "name": "stdout",
     "output_type": "stream",
     "text": [
      "\n",
      "*\n",
      "**\n",
      "***\n",
      "****\n",
      "*****\n",
      "****\n",
      "***\n",
      "**\n",
      "*\n"
     ]
    }
   ],
   "source": [
    "n=5\n",
    "for i in range(n+1):\n",
    "    print(\"*\"*i)\n",
    "if i == 5:\n",
    "    for n in range(n-1,0,-1):\n",
    "        print(\"*\"*n)\n",
    "        \n",
    "    \n"
   ]
  },
  {
   "cell_type": "code",
   "execution_count": 45,
   "id": "fefb9111",
   "metadata": {},
   "outputs": [
    {
     "name": "stdout",
     "output_type": "stream",
     "text": [
      "Ingrese la palabra a invertir: Fernando\n",
      "odnanreF\n"
     ]
    }
   ],
   "source": [
    "palabra = []\n",
    "palabra = input(\"Ingrese la palabra a invertir: \")\n",
    "invertida = \"\"\n",
    "for i in palabra:\n",
    "    invertida = i + invertida\n",
    "print(invertida)"
   ]
  },
  {
   "cell_type": "code",
   "execution_count": 52,
   "id": "ff6d050f",
   "metadata": {},
   "outputs": [
    {
     "name": "stdout",
     "output_type": "stream",
     "text": [
      "1\n",
      "2\n",
      "4\n",
      "5\n"
     ]
    }
   ],
   "source": [
    "n=[0,1,2,3,4,5,6]\n",
    "for n in range(7):\n",
    "    if n % 3 :\n",
    "        print(n)"
   ]
  }
 ],
 "metadata": {
  "kernelspec": {
   "display_name": "Python 3",
   "language": "python",
   "name": "python3"
  },
  "language_info": {
   "codemirror_mode": {
    "name": "ipython",
    "version": 3
   },
   "file_extension": ".py",
   "mimetype": "text/x-python",
   "name": "python",
   "nbconvert_exporter": "python",
   "pygments_lexer": "ipython3",
   "version": "3.8.8"
  }
 },
 "nbformat": 4,
 "nbformat_minor": 5
}
